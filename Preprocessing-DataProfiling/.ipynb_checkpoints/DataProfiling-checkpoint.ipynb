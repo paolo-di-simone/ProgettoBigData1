{
 "cells": [
  {
   "cell_type": "markdown",
   "id": "bf5fc913",
   "metadata": {},
   "source": [
    "# Preprocessing"
   ]
  },
  {
   "cell_type": "code",
   "execution_count": 7,
   "id": "d4d12387",
   "metadata": {},
   "outputs": [],
   "source": [
    "import pandas as pd\n",
    "import numpy as np\n",
    "import os\n",
    "from datetime import datetime"
   ]
  },
  {
   "cell_type": "code",
   "execution_count": null,
   "id": "536a5503",
   "metadata": {},
   "outputs": [],
   "source": [
    "csv_path = os.path.join(\"Dataset\", \"Reviews.csv\")\n",
    "df = pd.read_csv(csv_path)"
   ]
  },
  {
   "cell_type": "code",
   "execution_count": 11,
   "id": "0bbef4da",
   "metadata": {},
   "outputs": [],
   "source": [
    "items = [\",\", \".\", \"!\", \"?\", '\"', \"'\"]\n",
    "\n",
    "for item in items:\n",
    "    df[\"Summary\"] = df[\"Summary\"].str.replace(item, '')\n",
    "    df[\"Text\"] = df[\"Text\"].str.replace(item, '')\n",
    "    df[\"ProfileName\"] = df[\"ProfileName\"].str.replace(item, '')"
   ]
  },
  {
   "cell_type": "code",
   "execution_count": 12,
   "id": "075f9288",
   "metadata": {},
   "outputs": [],
   "source": [
    "df[\"Time\"] = df[\"Time\"].apply(lambda time: datetime.fromtimestamp(time).year)"
   ]
  },
  {
   "cell_type": "code",
   "execution_count": 16,
   "id": "faefad4c",
   "metadata": {},
   "outputs": [],
   "source": [
    "csv_path = os.path.join(\"Dataset\", \"Reviews-Parsed.csv\")\n",
    "df.to_csv(csv_path, index=False)"
   ]
  },
  {
   "cell_type": "markdown",
   "id": "d48d2b4e",
   "metadata": {},
   "source": [
    "# Data Profiling"
   ]
  },
  {
   "cell_type": "code",
   "execution_count": 1,
   "id": "928f9437",
   "metadata": {},
   "outputs": [],
   "source": [
    "import pandas as pd\n",
    "import numpy as np\n",
    "import os\n",
    "from datetime import datetime"
   ]
  },
  {
   "cell_type": "code",
   "execution_count": 2,
   "id": "8e3b829d",
   "metadata": {},
   "outputs": [],
   "source": [
    "csv_path = os.path.join(\"Dataset\", \"Reviews-Parsed.csv\")\n",
    "df = pd.read_csv(csv_path)"
   ]
  },
  {
   "cell_type": "code",
   "execution_count": 3,
   "id": "143eb808",
   "metadata": {},
   "outputs": [
    {
     "data": {
      "text/plain": [
       "Id                         int64\n",
       "ProductId                 object\n",
       "UserId                    object\n",
       "ProfileName               object\n",
       "HelpfulnessNumerator       int64\n",
       "HelpfulnessDenominator     int64\n",
       "Score                      int64\n",
       "Time                       int64\n",
       "Summary                   object\n",
       "Text                      object\n",
       "dtype: object"
      ]
     },
     "execution_count": 3,
     "metadata": {},
     "output_type": "execute_result"
    }
   ],
   "source": [
    "df.dtypes"
   ]
  },
  {
   "cell_type": "code",
   "execution_count": 4,
   "id": "cf146438",
   "metadata": {},
   "outputs": [
    {
     "data": {
      "text/plain": [
       "Id                         0\n",
       "ProductId                  0\n",
       "UserId                     0\n",
       "ProfileName               64\n",
       "HelpfulnessNumerator       0\n",
       "HelpfulnessDenominator     0\n",
       "Score                      0\n",
       "Time                       0\n",
       "Summary                   98\n",
       "Text                       0\n",
       "dtype: int64"
      ]
     },
     "execution_count": 4,
     "metadata": {},
     "output_type": "execute_result"
    }
   ],
   "source": [
    "df.isnull().sum()"
   ]
  },
  {
   "cell_type": "code",
   "execution_count": 5,
   "id": "4375f74d",
   "metadata": {},
   "outputs": [
    {
     "data": {
      "text/plain": [
       "{2011: 163299,\n",
       " 2012: 198659,\n",
       " 2008: 34163,\n",
       " 2005: 1335,\n",
       " 2010: 85884,\n",
       " 2009: 55326,\n",
       " 2006: 6671,\n",
       " 2007: 22300,\n",
       " 2004: 561,\n",
       " 2000: 32,\n",
       " 2003: 132,\n",
       " 2002: 73,\n",
       " 2001: 13,\n",
       " 1999: 6}"
      ]
     },
     "execution_count": 5,
     "metadata": {},
     "output_type": "execute_result"
    }
   ],
   "source": [
    "time_count = {}\n",
    "for time in df[\"Time\"]:\n",
    "    if time not in time_count.keys():\n",
    "        time_count[time] = 0\n",
    "    time_count[time] += 1\n",
    "time_count"
   ]
  },
  {
   "cell_type": "markdown",
   "id": "398b760b",
   "metadata": {},
   "source": [
    "# Analisi tempi di esecuzione"
   ]
  },
  {
   "cell_type": "code",
   "execution_count": 1,
   "id": "45a3d15b",
   "metadata": {},
   "outputs": [],
   "source": [
    "import pandas as pd\n",
    "import numpy as np\n",
    "import os\n",
    "import matplotlib.pyplot as plt"
   ]
  },
  {
   "cell_type": "code",
   "execution_count": 32,
   "id": "63c7c74f",
   "metadata": {},
   "outputs": [],
   "source": [
    "def plot_dataframe_time(df, title, base_path):\n",
    "    \n",
    "    plt.figure(figsize=(10, 5))\n",
    "    \n",
    "    plt.grid(True)\n",
    "    \n",
    "    for column in [\"MapReduce\", \"Hive\", \"SparkCore\", \"SparkSQL\"]:\n",
    "        plt.plot(df[\"DimensioneInput\"],df[column], label=column)\n",
    "    \n",
    "    \n",
    "    plt.xlabel(\"Dimensione input\")\n",
    "    plt.ylabel(\"Secondi\")\n",
    "    plt.title(title)\n",
    "    \n",
    "    plt.legend(loc=\"upper left\")\n",
    "    \n",
    "    file_name = \"\".join(title.lower()).replace(\" \", \"_\") \n",
    "    file_name = file_name.replace(\"-\", \"\") \n",
    "    path = base_path + file_name\n",
    "    plt.savefig(path, bbox_inches='tight', transparent=True)\n",
    "    plt.show()"
   ]
  },
  {
   "cell_type": "code",
   "execution_count": 97,
   "id": "c54babf3",
   "metadata": {},
   "outputs": [],
   "source": [
    "def local_vs_cluster(df_local, df_cluster, title, base_path):\n",
    "    \n",
    "    tasks = [\"MapReduce\", \"Hive\", \"SparkCore\", \"SparkSQL\"]        \n",
    "    times = {\n",
    "        \"Locale\": list(df_local.loc[4])[1:5],\n",
    "        \"Cluster\": list(df_cluster.loc[4])[1:5]\n",
    "    }    \n",
    "\n",
    "    x = np.arange(len(tasks))\n",
    "    width = 0.25\n",
    "    multiplier = 0\n",
    "\n",
    "    fig, ax = plt.subplots(layout=\"constrained\", figsize=(10, 5))\n",
    "    \n",
    "    offset = width * multiplier\n",
    "    rects = ax.bar(x + offset, times[\"Locale\"], width, color=\"#C8A2C8\", linewidth=1, edgecolor=\"#000000\", label=\"Locale\")\n",
    "    ax.bar_label(rects, padding=3)\n",
    "    multiplier += 1\n",
    "\n",
    "    offset = width * multiplier\n",
    "    rects = ax.bar(x + offset, times[\"Cluster\"], width, color=\"#6495ED\", linewidth=1, edgecolor=\"#000000\", label=\"Cluster\")\n",
    "    ax.bar_label(rects, padding=3)\n",
    "    \n",
    "    ax.set_title(title)\n",
    "    ax.set_ylabel(\"Secondi\")\n",
    "    ax.set_xticks(x + (width/2), tasks)\n",
    "    ax.legend(loc=\"upper left\", ncols=2)\n",
    "\n",
    "    file_name = \"\".join(title.lower()).replace(\" \", \"_\") \n",
    "    file_name = file_name.replace(\"-\", \"\") \n",
    "    path = base_path + file_name\n",
    "    plt.savefig(path, bbox_inches='tight', transparent=True) \n",
    "    plt.show()"
   ]
  },
  {
   "cell_type": "markdown",
   "id": "4244578d",
   "metadata": {},
   "source": [
    "### Job2"
   ]
  },
  {
   "cell_type": "code",
   "execution_count": 44,
   "id": "62ea6ebb",
   "metadata": {},
   "outputs": [
    {
     "data": {
      "text/html": [
       "<div>\n",
       "<style scoped>\n",
       "    .dataframe tbody tr th:only-of-type {\n",
       "        vertical-align: middle;\n",
       "    }\n",
       "\n",
       "    .dataframe tbody tr th {\n",
       "        vertical-align: top;\n",
       "    }\n",
       "\n",
       "    .dataframe thead th {\n",
       "        text-align: right;\n",
       "    }\n",
       "</style>\n",
       "<table border=\"1\" class=\"dataframe\">\n",
       "  <thead>\n",
       "    <tr style=\"text-align: right;\">\n",
       "      <th></th>\n",
       "      <th>DimensioneInput</th>\n",
       "      <th>MapReduce</th>\n",
       "      <th>Hive</th>\n",
       "      <th>SparkCore</th>\n",
       "      <th>SparkSQL</th>\n",
       "    </tr>\n",
       "  </thead>\n",
       "  <tbody>\n",
       "    <tr>\n",
       "      <th>0</th>\n",
       "      <td>100000</td>\n",
       "      <td>18.670</td>\n",
       "      <td>50.104</td>\n",
       "      <td>19.175</td>\n",
       "      <td>55.139</td>\n",
       "    </tr>\n",
       "    <tr>\n",
       "      <th>1</th>\n",
       "      <td>200000</td>\n",
       "      <td>21.218</td>\n",
       "      <td>55.052</td>\n",
       "      <td>20.739</td>\n",
       "      <td>57.451</td>\n",
       "    </tr>\n",
       "    <tr>\n",
       "      <th>2</th>\n",
       "      <td>300000</td>\n",
       "      <td>22.522</td>\n",
       "      <td>63.451</td>\n",
       "      <td>22.720</td>\n",
       "      <td>60.731</td>\n",
       "    </tr>\n",
       "    <tr>\n",
       "      <th>3</th>\n",
       "      <td>400000</td>\n",
       "      <td>24.736</td>\n",
       "      <td>70.422</td>\n",
       "      <td>24.262</td>\n",
       "      <td>62.635</td>\n",
       "    </tr>\n",
       "    <tr>\n",
       "      <th>4</th>\n",
       "      <td>500000</td>\n",
       "      <td>28.138</td>\n",
       "      <td>79.060</td>\n",
       "      <td>29.090</td>\n",
       "      <td>69.864</td>\n",
       "    </tr>\n",
       "  </tbody>\n",
       "</table>\n",
       "</div>"
      ],
      "text/plain": [
       "   DimensioneInput  MapReduce    Hive  SparkCore  SparkSQL\n",
       "0           100000     18.670  50.104     19.175    55.139\n",
       "1           200000     21.218  55.052     20.739    57.451\n",
       "2           300000     22.522  63.451     22.720    60.731\n",
       "3           400000     24.736  70.422     24.262    62.635\n",
       "4           500000     28.138  79.060     29.090    69.864"
      ]
     },
     "execution_count": 44,
     "metadata": {},
     "output_type": "execute_result"
    }
   ],
   "source": [
    "csv_path = os.path.join(\"../esercizio2\", \"tempi-locale.csv\")\n",
    "df_local = pd.read_csv(csv_path)\n",
    "df_local"
   ]
  },
  {
   "cell_type": "code",
   "execution_count": 45,
   "id": "6231d5f8",
   "metadata": {},
   "outputs": [
    {
     "data": {
      "image/png": "[encoded data removed]",
      "text/plain": [
       "<Figure size 720x360 with 1 Axes>"
      ]
     },
     "metadata": {
      "needs_background": "light"
     },
     "output_type": "display_data"
    }
   ],
   "source": [
    "plot_dataframe_time(df_local, \"Tempi di esecuzione Job 2 - Locale\", \"../esercizio2/\")"
   ]
  },
  {
   "cell_type": "code",
   "execution_count": 46,
   "id": "329261b5",
   "metadata": {},
   "outputs": [
    {
     "data": {
      "text/html": [
       "<div>\n",
       "<style scoped>\n",
       "    .dataframe tbody tr th:only-of-type {\n",
       "        vertical-align: middle;\n",
       "    }\n",
       "\n",
       "    .dataframe tbody tr th {\n",
       "        vertical-align: top;\n",
       "    }\n",
       "\n",
       "    .dataframe thead th {\n",
       "        text-align: right;\n",
       "    }\n",
       "</style>\n",
       "<table border=\"1\" class=\"dataframe\">\n",
       "  <thead>\n",
       "    <tr style=\"text-align: right;\">\n",
       "      <th></th>\n",
       "      <th>DimensioneInput</th>\n",
       "      <th>MapReduce</th>\n",
       "      <th>Hive</th>\n",
       "      <th>SparkCore</th>\n",
       "      <th>SparkSQL</th>\n",
       "    </tr>\n",
       "  </thead>\n",
       "  <tbody>\n",
       "    <tr>\n",
       "      <th>0</th>\n",
       "      <td>100000</td>\n",
       "      <td>14.065</td>\n",
       "      <td>26.462</td>\n",
       "      <td>16.706</td>\n",
       "      <td>48.173</td>\n",
       "    </tr>\n",
       "    <tr>\n",
       "      <th>1</th>\n",
       "      <td>200000</td>\n",
       "      <td>14.122</td>\n",
       "      <td>28.864</td>\n",
       "      <td>15.955</td>\n",
       "      <td>48.401</td>\n",
       "    </tr>\n",
       "    <tr>\n",
       "      <th>2</th>\n",
       "      <td>300000</td>\n",
       "      <td>14.123</td>\n",
       "      <td>32.229</td>\n",
       "      <td>18.021</td>\n",
       "      <td>49.204</td>\n",
       "    </tr>\n",
       "    <tr>\n",
       "      <th>3</th>\n",
       "      <td>400000</td>\n",
       "      <td>14.525</td>\n",
       "      <td>32.355</td>\n",
       "      <td>18.531</td>\n",
       "      <td>51.201</td>\n",
       "    </tr>\n",
       "    <tr>\n",
       "      <th>4</th>\n",
       "      <td>500000</td>\n",
       "      <td>14.606</td>\n",
       "      <td>33.151</td>\n",
       "      <td>20.445</td>\n",
       "      <td>52.662</td>\n",
       "    </tr>\n",
       "  </tbody>\n",
       "</table>\n",
       "</div>"
      ],
      "text/plain": [
       "   DimensioneInput  MapReduce    Hive  SparkCore  SparkSQL\n",
       "0           100000     14.065  26.462     16.706    48.173\n",
       "1           200000     14.122  28.864     15.955    48.401\n",
       "2           300000     14.123  32.229     18.021    49.204\n",
       "3           400000     14.525  32.355     18.531    51.201\n",
       "4           500000     14.606  33.151     20.445    52.662"
      ]
     },
     "execution_count": 46,
     "metadata": {},
     "output_type": "execute_result"
    }
   ],
   "source": [
    "csv_path = os.path.join(\"../esercizio2\", \"tempi-cluster.csv\")\n",
    "df_cluster = pd.read_csv(csv_path)\n",
    "df_cluster"
   ]
  },
  {
   "cell_type": "code",
   "execution_count": 47,
   "id": "9178e534",
   "metadata": {},
   "outputs": [
    {
     "data": {
      "image/png": "[encoded data removed]",
      "text/plain": [
       "<Figure size 720x360 with 1 Axes>"
      ]
     },
     "metadata": {
      "needs_background": "light"
     },
     "output_type": "display_data"
    }
   ],
   "source": [
    "plot_dataframe_time(df_cluster, \"Tempi di esecuzione Job 2 - Cluster\", \"../esercizio2/\")"
   ]
  },
  {
   "cell_type": "code",
   "execution_count": 99,
   "id": "ef72a161",
   "metadata": {},
   "outputs": [
    {
     "data": {
      "image/png": "[encoded data removed]",
      "text/plain": [
       "<Figure size 720x360 with 1 Axes>"
      ]
     },
     "metadata": {
      "needs_background": "light"
     },
     "output_type": "display_data"
    }
   ],
   "source": [
    "local_vs_cluster(df_local, df_cluster, \"Tempi di esecuzione Job 2 Locale vs Cluster su dataset intero\", \"../esercizio2/\")"
   ]
  },
  {
   "cell_type": "code",
   "execution_count": null,
   "id": "9496fe28",
   "metadata": {},
   "outputs": [],
   "source": []
  },
  {
   "cell_type": "code",
   "execution_count": null,
   "id": "839b601b",
   "metadata": {},
   "outputs": [],
   "source": []
  }
 ],
 "metadata": {
  "kernelspec": {
   "display_name": "Python 3",
   "language": "python",
   "name": "python3"
  },
  "language_info": {
   "codemirror_mode": {
    "name": "ipython",
    "version": 3
   },
   "file_extension": ".py",
   "mimetype": "text/x-python",
   "name": "python",
   "nbconvert_exporter": "python",
   "pygments_lexer": "ipython3",
   "version": "3.8.8"
  }
 },
 "nbformat": 4,
 "nbformat_minor": 5
}
